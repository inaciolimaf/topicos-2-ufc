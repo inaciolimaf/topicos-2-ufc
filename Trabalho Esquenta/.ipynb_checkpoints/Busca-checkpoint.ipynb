{
 "cells": [
  {
   "cell_type": "code",
   "execution_count": 1,
   "metadata": {
    "id": "UWn2RW1Z-b23"
   },
   "outputs": [],
   "source": [
    "import random\n",
    "import numpy as np\n",
    "import time\n",
    "import tracemalloc\n",
    "import threading\n",
    "import pandas as pd"
   ]
  },
  {
   "cell_type": "code",
   "execution_count": 2,
   "metadata": {
    "id": "L0cHDOoHDbaV"
   },
   "outputs": [],
   "source": [
    "def gerarArrayNaoOrdenado(tamanho):\n",
    "    gerador = random.Random()\n",
    "    array = np.empty(tamanho, dtype=int)\n",
    "\n",
    "    cont = 0\n",
    "    for i in range(tamanho):\n",
    "        if cont < 9:\n",
    "            array[i] = gerador.randint(0, 999)\n",
    "            cont += 1\n",
    "        else:\n",
    "            array[i] = gerador.randint(0, 999)\n",
    "            cont = 0\n",
    "\n",
    "    return array"
   ]
  },
  {
   "cell_type": "code",
   "execution_count": 3,
   "metadata": {
    "id": "IEf_EZjOEZ3O"
   },
   "outputs": [],
   "source": [
    "def gerarArrayOrdenado(tamanho):\n",
    "    gerador = random.Random()\n",
    "    array = np.empty(tamanho, dtype=int)\n",
    "\n",
    "    cont = 0\n",
    "    for i in range(tamanho):\n",
    "        if cont < 9:\n",
    "            array[i] = i + gerador.randint(0, 1)\n",
    "            cont += 1\n",
    "        else:\n",
    "            array[i] = i + gerador.randint(0, 1)\n",
    "            cont = 0\n",
    "\n",
    "    return array\n"
   ]
  },
  {
   "cell_type": "code",
   "execution_count": 4,
   "metadata": {
    "id": "EEq8VBsVV2VH"
   },
   "outputs": [],
   "source": [
    "def thread_function(funcao):\n",
    "    tracemalloc.start()  # Inicia o rastreamento\n",
    "\n",
    "    data = funcao()\n",
    "    current, peak = tracemalloc.get_traced_memory()\n",
    "    print(f\"Uso de memória: {current / 10**3} KB\")\n",
    "    global memoria\n",
    "    memoria = current / 10**6\n",
    "    tracemalloc.stop()  # Pára o rastreamento"
   ]
  },
  {
   "cell_type": "code",
   "execution_count": 5,
   "metadata": {
    "id": "uCIWog7iEiS3"
   },
   "outputs": [],
   "source": [
    "# tamanhos = [100, 500, 1000, 5000, 10000, 50000, 100000, 500000, 1000000, 5000000, 10000000, 50000000, 100000000]\n",
    "tamanhos = [100, 200, 400, 800, 1600, 3200, 6400, 12800, 25600, 51200, 102400, 204800, 409600, 819200, 1638400, 3276800, 6553600, 13107200, 26214400, 52428800, 104857600]\n",
    "memoria = 0\n",
    "def buscar(funcao, posicaoElementoPorcentagem, quantidade_buscas=21):\n",
    "    resultadosMem = []\n",
    "    resultadosTempo = []\n",
    "    for i in range(quantidade_buscas):\n",
    "        tamanho = tamanhos[i]\n",
    "        vetor = gerarArrayOrdenado(tamanho)\n",
    "        tempoInicial = time.time()\n",
    "        posicaoElemento = int((vetor.shape[0])*posicaoElementoPorcentagem/100)\n",
    "        if posicaoElemento==vetor.shape[0]:\n",
    "            posicaoElemento -= 1\n",
    "        thread = threading.Thread(target=thread_function, args=(lambda : funcao(vetor[posicaoElemento], vetor.copy(), 0, vetor.shape[0]),))\n",
    "        thread.start()\n",
    "        thread.join()\n",
    "        tempoFinal = time.time()\n",
    "        tempoDecorrido = tempoFinal - tempoInicial\n",
    "        print(f\"Tempo decorrido: {tempoDecorrido} segundos para o tamanho {tamanho}\")\n",
    "        resultadosTempo.append(tempoDecorrido)\n",
    "        resultadosMem.append(memoria)\n",
    "    return (resultadosTempo, resultadosMem)"
   ]
  },
  {
   "cell_type": "code",
   "execution_count": 6,
   "metadata": {
    "id": "Is2drYrBZDXG"
   },
   "outputs": [],
   "source": [
    "resultadoTotMem = []\n",
    "resultadoTotTempo = []"
   ]
  },
  {
   "cell_type": "markdown",
   "metadata": {
    "id": "Sp_1_PRYMy7W"
   },
   "source": [
    "# Para busca Linear V1"
   ]
  },
  {
   "cell_type": "code",
   "execution_count": 11,
   "metadata": {
    "id": "WoAJ6BptV51Q"
   },
   "outputs": [],
   "source": [
    "def buscaLinearV1(x, v, *args):\n",
    "    indice = -1\n",
    "    for i in range(v.shape[0]):\n",
    "#         if v[i] == x:\n",
    "        indice = i\n",
    "    return indice"
   ]
  },
  {
   "cell_type": "code",
   "execution_count": null,
   "metadata": {
    "colab": {
     "base_uri": "https://localhost:8080/"
    },
    "id": "xPyQ-aglM5CY",
    "outputId": "65b1f771-54c2-4d23-944e-7bb68722e4d5"
   },
   "outputs": [
    {
     "name": "stdout",
     "output_type": "stream",
     "text": [
      "Uso de memória: 0.448 KB\n",
      "Tempo decorrido: 0.0077478885650634766 segundos para o tamanho 100\n",
      "Uso de memória: 0.0 KB\n",
      "Tempo decorrido: 0.006860971450805664 segundos para o tamanho 200\n",
      "Uso de memória: 0.028 KB\n",
      "Tempo decorrido: 0.0040361881256103516 segundos para o tamanho 400\n",
      "Uso de memória: 0.028 KB\n",
      "Tempo decorrido: 0.004990339279174805 segundos para o tamanho 800\n",
      "Uso de memória: 0.028 KB\n",
      "Tempo decorrido: 0.004988670349121094 segundos para o tamanho 1600\n",
      "Uso de memória: 0.028 KB\n",
      "Tempo decorrido: 0.0060083866119384766 segundos para o tamanho 3200\n",
      "Uso de memória: 147.611 KB\n",
      "Tempo decorrido: 0.007002592086791992 segundos para o tamanho 6400\n",
      "Uso de memória: 0.028 KB\n",
      "Tempo decorrido: 0.012018203735351562 segundos para o tamanho 12800\n",
      "Uso de memória: 0.028 KB\n",
      "Tempo decorrido: 0.01899862289428711 segundos para o tamanho 25600\n",
      "Uso de memória: 148.235 KB\n",
      "Tempo decorrido: 0.04100227355957031 segundos para o tamanho 51200\n",
      "Uso de memória: 0.028 KB\n",
      "Tempo decorrido: 0.053006649017333984 segundos para o tamanho 102400\n",
      "Uso de memória: 0.028 KB\n",
      "Tempo decorrido: 0.09855961799621582 segundos para o tamanho 204800\n",
      "Uso de memória: 0.028 KB\n",
      "Tempo decorrido: 0.22378063201904297 segundos para o tamanho 409600\n",
      "Uso de memória: 0.028 KB\n",
      "Tempo decorrido: 0.36691904067993164 segundos para o tamanho 819200\n",
      "Uso de memória: 0.028 KB\n",
      "Tempo decorrido: 0.7455527782440186 segundos para o tamanho 1638400\n"
     ]
    }
   ],
   "source": [
    "resultado = buscar(buscaLinearV1, 0)\n",
    "resultadoTotTempo.append(resultado[0])\n",
    "resultadoTotMem.append(resultado[1])"
   ]
  },
  {
   "cell_type": "markdown",
   "metadata": {
    "id": "NXWzl5BEj1SQ"
   },
   "source": [
    "# Para busca Linear V2"
   ]
  },
  {
   "cell_type": "code",
   "execution_count": 29,
   "metadata": {
    "id": "CiaaxGPRkiL5"
   },
   "outputs": [],
   "source": [
    "def buscaLinearV2(x, v, *args):\n",
    "    for i in range(v.shape[0]):\n",
    "        if v[i] == x:\n",
    "            return i\n",
    "    return -1"
   ]
  },
  {
   "cell_type": "code",
   "execution_count": 30,
   "metadata": {
    "colab": {
     "base_uri": "https://localhost:8080/"
    },
    "id": "mjq_gPYOkdJt",
    "outputId": "ae47ac4f-3bb2-497c-fef7-8353f6beb36e"
   },
   "outputs": [
    {
     "name": "stdout",
     "output_type": "stream",
     "text": [
      "Uso de memória: 0.44 KB\n",
      "Tempo decorrido: 0.0040051937103271484 segundos para o tamanho 100\n",
      "Uso de memória: 0.0 KB\n",
      "Tempo decorrido: 0.004998207092285156 segundos para o tamanho 200\n",
      "Uso de memória: 0.0 KB\n",
      "Tempo decorrido: 0.00399470329284668 segundos para o tamanho 400\n",
      "Uso de memória: 0.0 KB\n",
      "Tempo decorrido: 0.0039997100830078125 segundos para o tamanho 800\n",
      "Uso de memória: 0.0 KB\n",
      "Tempo decorrido: 0.0020072460174560547 segundos para o tamanho 1600\n",
      "Uso de memória: 0.0 KB\n",
      "Tempo decorrido: 0.0030133724212646484 segundos para o tamanho 3200\n",
      "Uso de memória: 0.0 KB\n",
      "Tempo decorrido: 0.001001596450805664 segundos para o tamanho 6400\n",
      "Uso de memória: 0.0 KB\n",
      "Tempo decorrido: 0.003000974655151367 segundos para o tamanho 12800\n",
      "Uso de memória: 0.0 KB\n",
      "Tempo decorrido: 0.0030019283294677734 segundos para o tamanho 25600\n",
      "Uso de memória: 147.583 KB\n",
      "Tempo decorrido: 0.004008054733276367 segundos para o tamanho 51200\n",
      "Uso de memória: 0.0 KB\n",
      "Tempo decorrido: 0.00299835205078125 segundos para o tamanho 102400\n",
      "Uso de memória: 0.0 KB\n",
      "Tempo decorrido: 0.0019998550415039062 segundos para o tamanho 204800\n",
      "Uso de memória: 0.0 KB\n",
      "Tempo decorrido: 0.005414485931396484 segundos para o tamanho 409600\n",
      "Uso de memória: 0.0 KB\n",
      "Tempo decorrido: 0.002828359603881836 segundos para o tamanho 819200\n",
      "Uso de memória: 0.0 KB\n",
      "Tempo decorrido: 0.006677865982055664 segundos para o tamanho 1638400\n",
      "Uso de memória: 0.0 KB\n",
      "Tempo decorrido: 0.009140253067016602 segundos para o tamanho 3276800\n",
      "Uso de memória: 0.0 KB\n",
      "Tempo decorrido: 0.009004354476928711 segundos para o tamanho 6553600\n",
      "Uso de memória: 0.0 KB\n",
      "Tempo decorrido: 0.015570640563964844 segundos para o tamanho 13107200\n",
      "Uso de memória: 0.0 KB\n",
      "Tempo decorrido: 0.028999805450439453 segundos para o tamanho 26214400\n",
      "Uso de memória: 0.0 KB\n",
      "Tempo decorrido: 0.06161689758300781 segundos para o tamanho 52428800\n",
      "Uso de memória: 0.0 KB\n",
      "Tempo decorrido: 0.1430528163909912 segundos para o tamanho 104857600\n"
     ]
    }
   ],
   "source": [
    "resultado = buscar(buscaLinearV2, 0)\n",
    "resultadoTotTempo.append(resultado[0])\n",
    "resultadoTotMem.append(resultado[1])"
   ]
  },
  {
   "cell_type": "markdown",
   "metadata": {
    "id": "v_0oTwJatrNv"
   },
   "source": [
    "# Para busca binária começo do vetor"
   ]
  },
  {
   "cell_type": "code",
   "execution_count": 31,
   "metadata": {
    "id": "hGsx65M1HyUH"
   },
   "outputs": [],
   "source": [
    "def pesquisa_binaria(x, v, e, d):\n",
    "    meio = (e + d) // 2\n",
    "    if e >= d:\n",
    "        return -1\n",
    "    if v[meio] == x:\n",
    "        return meio\n",
    "    elif v[meio] < x:\n",
    "        return pesquisa_binaria(x, v, meio + 1, d)\n",
    "    else:\n",
    "        return pesquisa_binaria(x, v, e, meio - 1)"
   ]
  },
  {
   "cell_type": "code",
   "execution_count": 32,
   "metadata": {
    "colab": {
     "base_uri": "https://localhost:8080/"
    },
    "id": "ag8vk2tLtxme",
    "outputId": "da765fe1-2c6f-4900-d26c-1722b3534582"
   },
   "outputs": [
    {
     "name": "stdout",
     "output_type": "stream",
     "text": [
      "Uso de memória: 2.832 KB\n",
      "Tempo decorrido: 0.0020172595977783203 segundos para o tamanho 100\n",
      "Uso de memória: 0.0 KB\n",
      "Tempo decorrido: 0.004004240036010742 segundos para o tamanho 200\n",
      "Uso de memória: 0.0 KB\n",
      "Tempo decorrido: 0.0030002593994140625 segundos para o tamanho 400\n",
      "Uso de memória: 1.416 KB\n",
      "Tempo decorrido: 0.0010027885437011719 segundos para o tamanho 800\n",
      "Uso de memória: 0.472 KB\n",
      "Tempo decorrido: 0.002010345458984375 segundos para o tamanho 1600\n",
      "Uso de memória: 0.472 KB\n",
      "Tempo decorrido: 0.0020682811737060547 segundos para o tamanho 3200\n",
      "Uso de memória: 0.472 KB\n",
      "Tempo decorrido: 0.0010104179382324219 segundos para o tamanho 6400\n",
      "Uso de memória: 0.472 KB\n",
      "Tempo decorrido: 0.003469228744506836 segundos para o tamanho 12800\n",
      "Uso de memória: 0.472 KB\n",
      "Tempo decorrido: 0.003005504608154297 segundos para o tamanho 25600\n",
      "Uso de memória: 0.472 KB\n",
      "Tempo decorrido: 0.002982616424560547 segundos para o tamanho 51200\n",
      "Uso de memória: 0.472 KB\n",
      "Tempo decorrido: 0.005789995193481445 segundos para o tamanho 102400\n",
      "Uso de memória: 0.472 KB\n",
      "Tempo decorrido: 0.00392913818359375 segundos para o tamanho 204800\n",
      "Uso de memória: 0.472 KB\n",
      "Tempo decorrido: 0.0030040740966796875 segundos para o tamanho 409600\n",
      "Uso de memória: 0.472 KB\n",
      "Tempo decorrido: 0.005231142044067383 segundos para o tamanho 819200\n",
      "Uso de memória: 0.472 KB\n",
      "Tempo decorrido: 0.003990650177001953 segundos para o tamanho 1638400\n",
      "Uso de memória: 0.472 KB\n",
      "Tempo decorrido: 0.006243228912353516 segundos para o tamanho 3276800\n",
      "Uso de memória: 0.472 KB\n",
      "Tempo decorrido: 0.012257575988769531 segundos para o tamanho 6553600\n",
      "Uso de memória: 0.472 KB\n",
      "Tempo decorrido: 0.01802992820739746 segundos para o tamanho 13107200\n",
      "Uso de memória: 0.472 KB\n",
      "Tempo decorrido: 0.033263206481933594 segundos para o tamanho 26214400\n",
      "Uso de memória: 0.472 KB\n",
      "Tempo decorrido: 0.05617880821228027 segundos para o tamanho 52428800\n",
      "Uso de memória: 0.472 KB\n",
      "Tempo decorrido: 0.132598876953125 segundos para o tamanho 104857600\n"
     ]
    }
   ],
   "source": [
    "resultado = buscar(pesquisa_binaria, 0)\n",
    "resultadoTotTempo.append(resultado[0])\n",
    "resultadoTotMem.append(resultado[1])"
   ]
  },
  {
   "cell_type": "markdown",
   "metadata": {
    "id": "jXQVcWGJt4W5"
   },
   "source": [
    "# Para busca binária meio do vetor"
   ]
  },
  {
   "cell_type": "code",
   "execution_count": 33,
   "metadata": {
    "colab": {
     "base_uri": "https://localhost:8080/"
    },
    "id": "G-j1UZkFt67k",
    "outputId": "16a3b87c-0861-4dff-e08e-5a787565c66b"
   },
   "outputs": [
    {
     "name": "stdout",
     "output_type": "stream",
     "text": [
      "Uso de memória: 0.0 KB\n",
      "Tempo decorrido: 0.00674891471862793 segundos para o tamanho 100\n",
      "Uso de memória: 0.0 KB\n",
      "Tempo decorrido: 0.0032405853271484375 segundos para o tamanho 200\n",
      "Uso de memória: 0.0 KB\n",
      "Tempo decorrido: 0.002000093460083008 segundos para o tamanho 400\n",
      "Uso de memória: 0.028 KB\n",
      "Tempo decorrido: 0.0010099411010742188 segundos para o tamanho 800\n",
      "Uso de memória: 0.028 KB\n",
      "Tempo decorrido: 0.0020020008087158203 segundos para o tamanho 1600\n",
      "Uso de memória: 0.028 KB\n",
      "Tempo decorrido: 0.0010075569152832031 segundos para o tamanho 3200\n",
      "Uso de memória: 0.028 KB\n",
      "Tempo decorrido: 0.0025599002838134766 segundos para o tamanho 6400\n",
      "Uso de memória: 0.028 KB\n",
      "Tempo decorrido: 0.002753019332885742 segundos para o tamanho 12800\n",
      "Uso de memória: 0.028 KB\n",
      "Tempo decorrido: 0.002308368682861328 segundos para o tamanho 25600\n",
      "Uso de memória: 147.556 KB\n",
      "Tempo decorrido: 0.0020287036895751953 segundos para o tamanho 51200\n",
      "Uso de memória: 147.611 KB\n",
      "Tempo decorrido: 0.004010677337646484 segundos para o tamanho 102400\n",
      "Uso de memória: 0.028 KB\n",
      "Tempo decorrido: 0.0018727779388427734 segundos para o tamanho 204800\n",
      "Uso de memória: 0.028 KB\n",
      "Tempo decorrido: 0.0059528350830078125 segundos para o tamanho 409600\n",
      "Uso de memória: 0.028 KB\n",
      "Tempo decorrido: 0.00571894645690918 segundos para o tamanho 819200\n",
      "Uso de memória: 0.028 KB\n",
      "Tempo decorrido: 0.006569862365722656 segundos para o tamanho 1638400\n",
      "Uso de memória: 0.028 KB\n",
      "Tempo decorrido: 0.021337509155273438 segundos para o tamanho 3276800\n",
      "Uso de memória: 0.028 KB\n",
      "Tempo decorrido: 0.012201309204101562 segundos para o tamanho 6553600\n",
      "Uso de memória: 0.028 KB\n",
      "Tempo decorrido: 0.015540122985839844 segundos para o tamanho 13107200\n",
      "Uso de memória: 0.028 KB\n",
      "Tempo decorrido: 0.03620743751525879 segundos para o tamanho 26214400\n",
      "Uso de memória: 0.028 KB\n",
      "Tempo decorrido: 0.05658555030822754 segundos para o tamanho 52428800\n",
      "Uso de memória: 0.028 KB\n",
      "Tempo decorrido: 0.13060998916625977 segundos para o tamanho 104857600\n"
     ]
    }
   ],
   "source": [
    "resultado = buscar(pesquisa_binaria, 50)\n",
    "resultadoTotTempo.append(resultado[0])\n",
    "resultadoTotMem.append(resultado[1])"
   ]
  },
  {
   "cell_type": "markdown",
   "metadata": {
    "id": "iB-5uF7m0dWr"
   },
   "source": [
    "# Busca quadrática com contagem de repetição de elementos"
   ]
  },
  {
   "cell_type": "code",
   "execution_count": 34,
   "metadata": {
    "id": "pkWThLg20dla"
   },
   "outputs": [],
   "source": [
    "def quadratica(numero_procurado, vet, *args):\n",
    "    contador = 0\n",
    "    posicao = -1\n",
    "    entrou = False\n",
    "    for i in range(vet.shape[0]):\n",
    "        for j in range(i, vet.shape[0]):\n",
    "            if vet[i] == numero_procurado:\n",
    "                if not entrou:\n",
    "                    posicao = i\n",
    "                    if vet[j] == numero_procurado:\n",
    "                        contador += 1\n",
    "            if contador > 0:\n",
    "                entrou = True\n",
    "        if i%1000==0:\n",
    "            print(i)\n",
    "    return posicao"
   ]
  },
  {
   "cell_type": "code",
   "execution_count": 35,
   "metadata": {
    "colab": {
     "base_uri": "https://localhost:8080/"
    },
    "id": "JDITHerj07eP",
    "outputId": "72403dd9-e5e9-4be4-c9e2-b1a5a807dc57"
   },
   "outputs": [
    {
     "name": "stdout",
     "output_type": "stream",
     "text": [
      "0\n",
      "Uso de memória: 2.009 KB\n",
      "Tempo decorrido: 0.0049898624420166016 segundos para o tamanho 100\n",
      "0\n",
      "Uso de memória: 148.216 KB\n",
      "Tempo decorrido: 0.01599431037902832 segundos para o tamanho 200\n",
      "0\n",
      "Uso de memória: 148.028 KB\n",
      "Tempo decorrido: 0.06908178329467773 segundos para o tamanho 400\n",
      "0\n",
      "Uso de memória: 148.298 KB\n",
      "Tempo decorrido: 0.2912895679473877 segundos para o tamanho 800\n",
      "0\n",
      "1000\n",
      "Uso de memória: 148.607 KB\n",
      "Tempo decorrido: 1.084399700164795 segundos para o tamanho 1600\n",
      "0\n",
      "1000\n",
      "2000\n",
      "3000\n",
      "Uso de memória: 149.007 KB\n",
      "Tempo decorrido: 4.2282140254974365 segundos para o tamanho 3200\n",
      "0\n",
      "1000\n",
      "2000\n",
      "3000\n",
      "4000\n",
      "5000\n",
      "6000\n",
      "Uso de memória: 148.631 KB\n",
      "Tempo decorrido: 16.492688179016113 segundos para o tamanho 6400\n",
      "0\n",
      "1000\n",
      "2000\n",
      "3000\n",
      "4000\n",
      "5000\n",
      "6000\n",
      "7000\n",
      "8000\n",
      "9000\n",
      "10000\n",
      "11000\n",
      "12000\n",
      "Uso de memória: 149.308 KB\n",
      "Tempo decorrido: 65.61005401611328 segundos para o tamanho 12800\n"
     ]
    }
   ],
   "source": [
    "resultado = buscar(quadratica, 100,8)\n",
    "resultadoTotTempo.append(resultado[0])\n",
    "resultadoTotMem.append(resultado[1])"
   ]
  },
  {
   "cell_type": "markdown",
   "metadata": {
    "id": "DIa2R-ViEsdX"
   },
   "source": [
    "# Busca ternária O(log n)"
   ]
  },
  {
   "cell_type": "code",
   "execution_count": 36,
   "metadata": {
    "id": "KNP1VUUREroj"
   },
   "outputs": [],
   "source": [
    "def bt(x, vet, _, n):\n",
    "    inicio = 0\n",
    "    fim = n - 1\n",
    "\n",
    "    while inicio <= fim:\n",
    "        meio_esquerdo = inicio + (fim - inicio) // 3\n",
    "        meio_direito = fim - (fim - inicio) // 3\n",
    "\n",
    "        if vet[meio_esquerdo] == x:\n",
    "            return meio_esquerdo\n",
    "        elif vet[meio_direito] == x:\n",
    "            return meio_direito\n",
    "        elif vet[meio_esquerdo] > x:\n",
    "            fim = meio_esquerdo - 1\n",
    "        elif vet[meio_direito] < x:\n",
    "            inicio = meio_direito + 1\n",
    "        else:\n",
    "            inicio = meio_esquerdo + 1\n",
    "            fim = meio_direito - 1\n",
    "    print(\"ERRO\")\n",
    "    return -1"
   ]
  },
  {
   "cell_type": "code",
   "execution_count": 37,
   "metadata": {
    "colab": {
     "base_uri": "https://localhost:8080/"
    },
    "id": "tAwJKqj2FGQX",
    "outputId": "d4ce3bcf-a9dd-435a-8e54-78751b26e765"
   },
   "outputs": [
    {
     "name": "stdout",
     "output_type": "stream",
     "text": [
      "Uso de memória: 0.84 KB\n",
      "Tempo decorrido: 0.0019953250885009766 segundos para o tamanho 100\n",
      "Uso de memória: 0.0 KB\n",
      "Tempo decorrido: 0.002994537353515625 segundos para o tamanho 200\n",
      "Uso de memória: 0.028 KB\n",
      "Tempo decorrido: 0.0030078887939453125 segundos para o tamanho 400\n",
      "Uso de memória: 0.028 KB\n",
      "Tempo decorrido: 0.0020017623901367188 segundos para o tamanho 800\n",
      "Uso de memória: 0.028 KB\n",
      "Tempo decorrido: 0.002000570297241211 segundos para o tamanho 1600\n",
      "Uso de memória: 0.028 KB\n",
      "Tempo decorrido: 0.0034940242767333984 segundos para o tamanho 3200\n",
      "Uso de memória: 0.028 KB\n",
      "Tempo decorrido: 0.0033957958221435547 segundos para o tamanho 6400\n",
      "Uso de memória: 0.028 KB\n",
      "Tempo decorrido: 0.0018935203552246094 segundos para o tamanho 12800\n",
      "Uso de memória: 0.028 KB\n",
      "Tempo decorrido: 0.0020041465759277344 segundos para o tamanho 25600\n",
      "Uso de memória: 0.459 KB\n",
      "Tempo decorrido: 0.0030078887939453125 segundos para o tamanho 51200\n",
      "Uso de memória: 0.028 KB\n",
      "Tempo decorrido: 0.0030057430267333984 segundos para o tamanho 102400\n",
      "Uso de memória: 0.028 KB\n",
      "Tempo decorrido: 0.005745410919189453 segundos para o tamanho 204800\n",
      "Uso de memória: 0.028 KB\n",
      "Tempo decorrido: 0.005468845367431641 segundos para o tamanho 409600\n",
      "Uso de memória: 0.028 KB\n",
      "Tempo decorrido: 0.005417823791503906 segundos para o tamanho 819200\n",
      "Uso de memória: 0.028 KB\n",
      "Tempo decorrido: 0.007927179336547852 segundos para o tamanho 1638400\n",
      "Uso de memória: 0.028 KB\n",
      "Tempo decorrido: 0.005998849868774414 segundos para o tamanho 3276800\n",
      "Uso de memória: 0.028 KB\n",
      "Tempo decorrido: 0.012110471725463867 segundos para o tamanho 6553600\n",
      "Uso de memória: 0.028 KB\n",
      "Tempo decorrido: 0.01915287971496582 segundos para o tamanho 13107200\n",
      "Uso de memória: 0.028 KB\n",
      "Tempo decorrido: 0.03397178649902344 segundos para o tamanho 26214400\n",
      "Uso de memória: 0.028 KB\n",
      "Tempo decorrido: 0.059983015060424805 segundos para o tamanho 52428800\n",
      "Uso de memória: 0.028 KB\n",
      "Tempo decorrido: 0.12859702110290527 segundos para o tamanho 104857600\n"
     ]
    }
   ],
   "source": [
    "resultado = buscar(bt, 100)\n",
    "resultadoTotTempo.append(resultado[0])\n",
    "resultadoTotMem.append(resultado[1])"
   ]
  },
  {
   "cell_type": "markdown",
   "metadata": {
    "id": "fVst5uoeF7hQ"
   },
   "source": []
  },
  {
   "cell_type": "code",
   "execution_count": 38,
   "metadata": {
    "id": "KXZyAIy6F76D"
   },
   "outputs": [],
   "source": [
    "def cubica(numero_procurado, vet, *args):\n",
    "    posicao = -1\n",
    "\n",
    "    for i in range(len(vet)):\n",
    "        for j in range(len(vet)):\n",
    "            for l in range(len(vet)):\n",
    "                if vet[i] == numero_procurado and vet[j] == numero_procurado and vet[l] == numero_procurado:\n",
    "                    posicao = i\n",
    "        if i%100==0:\n",
    "            print(i)\n",
    "\n",
    "    if posicao != -1:\n",
    "        print(f\"Posicao: {posicao}\")"
   ]
  },
  {
   "cell_type": "code",
   "execution_count": 39,
   "metadata": {
    "colab": {
     "base_uri": "https://localhost:8080/"
    },
    "id": "68kFBFybGX0f",
    "outputId": "6b57da6b-74af-49a6-8294-2e8d5156c260"
   },
   "outputs": [
    {
     "name": "stdout",
     "output_type": "stream",
     "text": [
      "0\n",
      "Posicao: 99\n",
      "Uso de memória: 150.045 KB\n",
      "Tempo decorrido: 0.5462658405303955 segundos para o tamanho 100\n",
      "0\n",
      "100\n",
      "Posicao: 199\n",
      "Uso de memória: 149.411 KB\n",
      "Tempo decorrido: 3.955990791320801 segundos para o tamanho 200\n",
      "0\n",
      "100\n",
      "200\n",
      "300\n",
      "Posicao: 399\n",
      "Uso de memória: 148.939 KB\n",
      "Tempo decorrido: 38.68184685707092 segundos para o tamanho 400\n",
      "0\n",
      "100\n",
      "200\n",
      "300\n",
      "400\n",
      "500\n",
      "600\n",
      "700\n",
      "Posicao: 799\n",
      "Uso de memória: 148.939 KB\n",
      "Tempo decorrido: 355.00275802612305 segundos para o tamanho 800\n"
     ]
    }
   ],
   "source": [
    "resultado = buscar(cubica, 100, 4)\n",
    "resultadoTotTempo.append(resultado[0])\n",
    "resultadoTotMem.append(resultado[1])"
   ]
  },
  {
   "cell_type": "code",
   "execution_count": 40,
   "metadata": {
    "id": "s4BszIaAZNTh"
   },
   "outputs": [],
   "source": [
    "pd.DataFrame(resultadoTotMem, columns=tamanhos).to_excel(\"resultadoMemoria.xlsx\")\n",
    "pd.DataFrame(resultadoTotTempo, columns=tamanhos).to_excel(\"resultadoTempo.xlsx\")"
   ]
  }
 ],
 "metadata": {
  "colab": {
   "provenance": []
  },
  "kernelspec": {
   "display_name": "Python 3",
   "language": "python",
   "name": "python3"
  },
  "language_info": {
   "codemirror_mode": {
    "name": "ipython",
    "version": 3
   },
   "file_extension": ".py",
   "mimetype": "text/x-python",
   "name": "python",
   "nbconvert_exporter": "python",
   "pygments_lexer": "ipython3",
   "version": "3.8.8"
  }
 },
 "nbformat": 4,
 "nbformat_minor": 1
}
