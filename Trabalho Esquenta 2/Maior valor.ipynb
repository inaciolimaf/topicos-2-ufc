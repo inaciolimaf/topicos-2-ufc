{
 "cells": [
  {
   "cell_type": "code",
   "execution_count": 9,
   "metadata": {
    "id": "UWn2RW1Z-b23"
   },
   "outputs": [],
   "source": [
    "import random\n",
    "import numpy as np\n",
    "import time\n",
    "import tracemalloc\n",
    "import threading\n",
    "import pandas as pd"
   ]
  },
  {
   "cell_type": "code",
   "execution_count": 10,
   "metadata": {
    "id": "L0cHDOoHDbaV"
   },
   "outputs": [],
   "source": [
    "def gerarArrayNaoOrdenado(tamanho):\n",
    "    gerador = random.Random()\n",
    "    array = np.empty(tamanho, dtype=int)\n",
    "\n",
    "    cont = 0\n",
    "    for i in range(tamanho):\n",
    "        if cont < 9:\n",
    "            array[i] = gerador.randint(0, 999)\n",
    "            cont += 1\n",
    "        else:\n",
    "            array[i] = gerador.randint(0, 999)\n",
    "            cont = 0\n",
    "\n",
    "    return array"
   ]
  },
  {
   "cell_type": "code",
   "execution_count": 11,
   "metadata": {
    "id": "IEf_EZjOEZ3O"
   },
   "outputs": [],
   "source": [
    "def gerarArrayOrdenado(tamanho):\n",
    "    gerador = random.Random()\n",
    "    array = np.empty(tamanho, dtype=int)\n",
    "\n",
    "    cont = 0\n",
    "    for i in range(tamanho):\n",
    "        if cont < 9:\n",
    "            array[i] = i + gerador.randint(0, 1)\n",
    "            cont += 1\n",
    "        else:\n",
    "            array[i] = i + gerador.randint(0, 1)\n",
    "            cont = 0\n",
    "\n",
    "    return array\n"
   ]
  },
  {
   "cell_type": "code",
   "execution_count": 12,
   "metadata": {
    "id": "EEq8VBsVV2VH"
   },
   "outputs": [],
   "source": [
    "def thread_function(funcao):\n",
    "    tracemalloc.start()  # Inicia o rastreamento\n",
    "    data = funcao()\n",
    "    current, peak = tracemalloc.get_traced_memory()\n",
    "    print(f\"Uso de memória: {peak / 10**3} KB\")\n",
    "    global memoria\n",
    "    memoria = peak / 10**6\n",
    "    tracemalloc.stop()  # Pára o rastreamento"
   ]
  },
  {
   "cell_type": "code",
   "execution_count": 13,
   "metadata": {
    "id": "uCIWog7iEiS3"
   },
   "outputs": [],
   "source": [
    "# tamanhos = [100, 500, 1000, 5000, 10000, 50000, 100000, 500000, 1000000, 5000000, 10000000, 50000000, 100000000]\n",
    "tamanhos = [100, 200, 400, 800, 1600, 3200, 6400, 12800, 25600, 51200, 102400, 204800, 409600, 819200, 1638400,\n",
    "            3276800, 6553600, 13107200, 26214400, 52428800, 104857600, 209715200, 419430400]\n",
    "memoria = 0\n",
    "def valorMaximo(funcao, quantidade_buscas=23):\n",
    "    resultadosMem = []\n",
    "    resultadosTempo = []\n",
    "    for i in range(quantidade_buscas):\n",
    "        tamanho = tamanhos[i]\n",
    "        vetor = gerarArrayNaoOrdenado(tamanho)\n",
    "        tempoInicial = time.time()\n",
    "        thread = threading.Thread(target=thread_function,\n",
    "                                  args=(lambda : funcao(vetor.copy(), 0, vetor.shape[0]),))\n",
    "        thread.start()\n",
    "        thread.join()\n",
    "        tempoFinal = time.time()\n",
    "        tempoDecorrido = tempoFinal - tempoInicial\n",
    "        print(f\"Tempo decorrido: {tempoDecorrido} segundos para o tamanho {tamanho}\")\n",
    "        resultadosTempo.append(tempoDecorrido)\n",
    "        resultadosMem.append(memoria)\n",
    "    return (resultadosTempo, resultadosMem)"
   ]
  },
  {
   "cell_type": "code",
   "execution_count": 14,
   "metadata": {
    "id": "Is2drYrBZDXG"
   },
   "outputs": [],
   "source": [
    "resultadoTotMem = []\n",
    "resultadoTotTempo = []"
   ]
  },
  {
   "cell_type": "markdown",
   "metadata": {
    "id": "Sp_1_PRYMy7W"
   },
   "source": [
    "# Para maxVal V1"
   ]
  },
  {
   "cell_type": "code",
   "execution_count": 15,
   "metadata": {
    "id": "WoAJ6BptV51Q"
   },
   "outputs": [],
   "source": [
    "def max_val(A, *args):\n",
    "    if len(A) == 0:\n",
    "        raise ValueError(\"A lista está vazia.\")\n",
    "    \n",
    "    max_value = A[0]\n",
    "    \n",
    "    for i in range(1, len(A)):\n",
    "        if A[i] > max_value:\n",
    "            max_value = A[i]\n",
    "    \n",
    "    return max_value"
   ]
  },
  {
   "cell_type": "code",
   "execution_count": 16,
   "metadata": {
    "colab": {
     "base_uri": "https://localhost:8080/"
    },
    "id": "xPyQ-aglM5CY",
    "outputId": "8c6dcaec-fda0-4e50-ecf4-1f42dac6177a"
   },
   "outputs": [
    {
     "name": "stdout",
     "output_type": "stream",
     "text": [
      "Uso de memória: 1.08 KB\n",
      "Tempo decorrido: 0.005019187927246094 segundos para o tamanho 100\n",
      "Uso de memória: 0.192 KB\n",
      "Tempo decorrido: 0.005999088287353516 segundos para o tamanho 200\n",
      "Uso de memória: 1.88 KB\n",
      "Tempo decorrido: 0.008010387420654297 segundos para o tamanho 400\n",
      "Uso de memória: 3.48 KB\n",
      "Tempo decorrido: 0.008012533187866211 segundos para o tamanho 800\n",
      "Uso de memória: 6.68 KB\n",
      "Tempo decorrido: 0.009000062942504883 segundos para o tamanho 1600\n",
      "Uso de memória: 13.08 KB\n",
      "Tempo decorrido: 0.013995170593261719 segundos para o tamanho 3200\n",
      "Uso de memória: 25.88 KB\n",
      "Tempo decorrido: 0.01957988739013672 segundos para o tamanho 6400\n",
      "Uso de memória: 51.48 KB\n",
      "Tempo decorrido: 0.03401660919189453 segundos para o tamanho 12800\n",
      "Uso de memória: 250.671 KB\n",
      "Tempo decorrido: 0.05513906478881836 segundos para o tamanho 25600\n",
      "Uso de memória: 352.664 KB\n",
      "Tempo decorrido: 0.1390702724456787 segundos para o tamanho 51200\n",
      "Uso de memória: 558.807 KB\n",
      "Tempo decorrido: 0.18287897109985352 segundos para o tamanho 102400\n",
      "Uso de memória: 819.48 KB\n",
      "Tempo decorrido: 0.3032829761505127 segundos para o tamanho 204800\n",
      "Uso de memória: 1638.68 KB\n",
      "Tempo decorrido: 0.5846779346466064 segundos para o tamanho 409600\n",
      "Uso de memória: 3277.08 KB\n",
      "Tempo decorrido: 0.8279740810394287 segundos para o tamanho 819200\n",
      "Uso de memória: 6553.88 KB\n",
      "Tempo decorrido: 1.3478820323944092 segundos para o tamanho 1638400\n",
      "Uso de memória: 13107.48 KB\n",
      "Tempo decorrido: 3.168123245239258 segundos para o tamanho 3276800\n",
      "Uso de memória: 26214.68 KB\n",
      "Tempo decorrido: 5.043386697769165 segundos para o tamanho 6553600\n",
      "Uso de memória: 52429.08 KB\n",
      "Tempo decorrido: 11.893151760101318 segundos para o tamanho 13107200\n",
      "Uso de memória: 104857.88 KB\n",
      "Tempo decorrido: 21.85108733177185 segundos para o tamanho 26214400\n",
      "Uso de memória: 209715.48 KB\n",
      "Tempo decorrido: 43.549755573272705 segundos para o tamanho 52428800\n",
      "Uso de memória: 419430.68 KB\n",
      "Tempo decorrido: 83.08020520210266 segundos para o tamanho 104857600\n",
      "Uso de memória: 838861.08 KB\n",
      "Tempo decorrido: 175.9181935787201 segundos para o tamanho 209715200\n",
      "Uso de memória: 1677721.88 KB\n",
      "Tempo decorrido: 334.7357039451599 segundos para o tamanho 419430400\n"
     ]
    }
   ],
   "source": [
    "resultado = valorMaximo(max_val)\n",
    "resultadoTotTempo.append(resultado[0])\n",
    "resultadoTotMem.append(resultado[1])"
   ]
  },
  {
   "cell_type": "markdown",
   "metadata": {
    "id": "NXWzl5BEj1SQ"
   },
   "source": [
    "# Para maxVal V2"
   ]
  },
  {
   "cell_type": "code",
   "execution_count": 17,
   "metadata": {
    "id": "CiaaxGPRkiL5"
   },
   "outputs": [],
   "source": [
    "def max_val2(A, init, end):\n",
    "    end -= 1\n",
    "    if end - init <= 1:\n",
    "        return max(A[init], A[end])\n",
    "    else:\n",
    "        mid = (init + end) // 2\n",
    "        v1 = max_val2(A, init, mid)\n",
    "        v2 = max_val2(A, mid + 1, end)\n",
    "        return max(v1, v2)"
   ]
  },
  {
   "cell_type": "code",
   "execution_count": 18,
   "metadata": {
    "colab": {
     "base_uri": "https://localhost:8080/"
    },
    "id": "mjq_gPYOkdJt",
    "outputId": "b6db4db3-3605-41be-d962-47a853c55728"
   },
   "outputs": [
    {
     "name": "stdout",
     "output_type": "stream",
     "text": [
      "Uso de memória: 2.215 KB\n",
      "Tempo decorrido: 0.009994268417358398 segundos para o tamanho 100\n",
      "Uso de memória: 0.792 KB\n",
      "Tempo decorrido: 0.00897359848022461 segundos para o tamanho 200\n",
      "Uso de memória: 3.932 KB\n",
      "Tempo decorrido: 0.009014368057250977 segundos para o tamanho 400\n",
      "Uso de memória: 4.768 KB\n",
      "Tempo decorrido: 0.007529020309448242 segundos para o tamanho 800\n",
      "Uso de memória: 8.25 KB\n",
      "Tempo decorrido: 0.011143207550048828 segundos para o tamanho 1600\n",
      "Uso de memória: 14.584 KB\n",
      "Tempo decorrido: 0.01700282096862793 segundos para o tamanho 3200\n",
      "Uso de memória: 27.492 KB\n",
      "Tempo decorrido: 0.03923606872558594 segundos para o tamanho 6400\n",
      "Uso de memória: 202.718 KB\n",
      "Tempo decorrido: 0.05077362060546875 segundos para o tamanho 12800\n",
      "Uso de memória: 104.044 KB\n",
      "Tempo decorrido: 0.08853268623352051 segundos para o tamanho 25600\n",
      "Uso de memória: 207.016 KB\n",
      "Tempo decorrido: 0.1280834674835205 segundos para o tamanho 51200\n",
      "Uso de memória: 411.924 KB\n",
      "Tempo decorrido: 0.23424291610717773 segundos para o tamanho 102400\n",
      "Uso de memória: 821.632 KB\n",
      "Tempo decorrido: 0.33270764350891113 segundos para o tamanho 204800\n",
      "Uso de memória: 1640.94 KB\n",
      "Tempo decorrido: 0.621938943862915 segundos para o tamanho 409600\n",
      "Uso de memória: 3279.448 KB\n",
      "Tempo decorrido: 1.1185007095336914 segundos para o tamanho 819200\n",
      "Uso de memória: 6556.356 KB\n",
      "Tempo decorrido: 2.5058035850524902 segundos para o tamanho 1638400\n",
      "Uso de memória: 13110.064 KB\n",
      "Tempo decorrido: 4.110557794570923 segundos para o tamanho 3276800\n",
      "Uso de memória: 26217.372 KB\n",
      "Tempo decorrido: 8.465726613998413 segundos para o tamanho 6553600\n",
      "Uso de memória: 52431.88 KB\n",
      "Tempo decorrido: 17.53451633453369 segundos para o tamanho 13107200\n",
      "Uso de memória: 104860.788 KB\n",
      "Tempo decorrido: 34.7316415309906 segundos para o tamanho 26214400\n",
      "Uso de memória: 209718.496 KB\n",
      "Tempo decorrido: 90.1084213256836 segundos para o tamanho 52428800\n",
      "Uso de memória: 419433.804 KB\n",
      "Tempo decorrido: 136.71552348136902 segundos para o tamanho 104857600\n",
      "Uso de memória: 838864.312 KB\n",
      "Tempo decorrido: 275.0099263191223 segundos para o tamanho 209715200\n",
      "Uso de memória: 1677725.22 KB\n",
      "Tempo decorrido: 600.4876320362091 segundos para o tamanho 419430400\n"
     ]
    }
   ],
   "source": [
    "resultado = valorMaximo(max_val2)\n",
    "resultadoTotTempo.append(resultado[0])\n",
    "resultadoTotMem.append(resultado[1])"
   ]
  },
  {
   "cell_type": "code",
   "execution_count": 19,
   "metadata": {
    "id": "s4BszIaAZNTh"
   },
   "outputs": [],
   "source": [
    "pd.DataFrame(resultadoTotMem, columns=tamanhos).to_excel(\"resultadoMemoria.xlsx\")\n",
    "pd.DataFrame(resultadoTotTempo, columns=tamanhos).to_excel(\"resultadoTempo.xlsx\")"
   ]
  }
 ],
 "metadata": {
  "colab": {
   "provenance": []
  },
  "kernelspec": {
   "display_name": "Python 3",
   "language": "python",
   "name": "python3"
  },
  "language_info": {
   "codemirror_mode": {
    "name": "ipython",
    "version": 3
   },
   "file_extension": ".py",
   "mimetype": "text/x-python",
   "name": "python",
   "nbconvert_exporter": "python",
   "pygments_lexer": "ipython3",
   "version": "3.8.8"
  }
 },
 "nbformat": 4,
 "nbformat_minor": 1
}
