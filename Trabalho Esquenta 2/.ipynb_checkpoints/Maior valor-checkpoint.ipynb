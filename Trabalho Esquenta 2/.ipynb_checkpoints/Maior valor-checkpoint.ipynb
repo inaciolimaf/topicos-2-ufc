{
 "cells": [
  {
   "cell_type": "code",
   "execution_count": 1,
   "metadata": {
    "id": "UWn2RW1Z-b23"
   },
   "outputs": [],
   "source": [
    "import random\n",
    "import numpy as np\n",
    "import time\n",
    "import tracemalloc\n",
    "import threading\n",
    "import pandas as pd"
   ]
  },
  {
   "cell_type": "code",
   "execution_count": 2,
   "metadata": {
    "id": "L0cHDOoHDbaV"
   },
   "outputs": [],
   "source": [
    "def gerarArrayNaoOrdenado(tamanho):\n",
    "    gerador = random.Random()\n",
    "    array = np.empty(tamanho, dtype=int)\n",
    "\n",
    "    cont = 0\n",
    "    for i in range(tamanho):\n",
    "        if cont < 9:\n",
    "            array[i] = gerador.randint(0, 999)\n",
    "            cont += 1\n",
    "        else:\n",
    "            array[i] = gerador.randint(0, 999)\n",
    "            cont = 0\n",
    "\n",
    "    return array"
   ]
  },
  {
   "cell_type": "code",
   "execution_count": 3,
   "metadata": {
    "id": "IEf_EZjOEZ3O"
   },
   "outputs": [],
   "source": [
    "def gerarArrayOrdenado(tamanho):\n",
    "    gerador = random.Random()\n",
    "    array = np.empty(tamanho, dtype=int)\n",
    "\n",
    "    cont = 0\n",
    "    for i in range(tamanho):\n",
    "        if cont < 9:\n",
    "            array[i] = i + gerador.randint(0, 1)\n",
    "            cont += 1\n",
    "        else:\n",
    "            array[i] = i + gerador.randint(0, 1)\n",
    "            cont = 0\n",
    "\n",
    "    return array\n"
   ]
  },
  {
   "cell_type": "code",
   "execution_count": 4,
   "metadata": {
    "id": "EEq8VBsVV2VH"
   },
   "outputs": [],
   "source": [
    "def thread_function(funcao):\n",
    "    tracemalloc.start()  # Inicia o rastreamento\n",
    "    data = funcao()\n",
    "    current, peak = tracemalloc.get_traced_memory()\n",
    "    print(f\"Uso de memória: {peak / 10**3} KB\")\n",
    "    global memoria\n",
    "    memoria = peak / 10**6\n",
    "    tracemalloc.stop()  # Pára o rastreamento"
   ]
  },
  {
   "cell_type": "code",
   "execution_count": 5,
   "metadata": {
    "id": "uCIWog7iEiS3"
   },
   "outputs": [],
   "source": [
    "# tamanhos = [100, 500, 1000, 5000, 10000, 50000, 100000, 500000, 1000000, 5000000, 10000000, 50000000, 100000000]\n",
    "tamanhos = [100, 200, 400, 800, 1600, 3200, 6400, 12800, 25600, 51200, 102400, 204800, 409600, 819200, 1638400,\n",
    "            3276800, 6553600, 13107200, 26214400, 52428800, 104857600]\n",
    "memoria = 0\n",
    "def buscar(funcao, posicaoElementoPorcentagem, quantidade_buscas=21):\n",
    "    resultadosMem = []\n",
    "    resultadosTempo = []\n",
    "    for i in range(quantidade_buscas):\n",
    "        tamanho = tamanhos[i]\n",
    "        vetor = gerarArrayNaoOrdenado(tamanho)\n",
    "        tempoInicial = time.time()\n",
    "        posicaoElemento = int((vetor.shape[0])*posicaoElementoPorcentagem/100)\n",
    "        if posicaoElemento==vetor.shape[0]:\n",
    "            posicaoElemento -= 1\n",
    "        thread = threading.Thread(target=thread_function,\n",
    "                                  args=(lambda : funcao(vetor[posicaoElemento], vetor.copy(), 0, vetor.shape[0]),))\n",
    "        thread.start()\n",
    "        thread.join()\n",
    "        tempoFinal = time.time()\n",
    "        tempoDecorrido = tempoFinal - tempoInicial\n",
    "        print(f\"Tempo decorrido: {tempoDecorrido} segundos para o tamanho {tamanho}\")\n",
    "        resultadosTempo.append(tempoDecorrido)\n",
    "        resultadosMem.append(memoria)\n",
    "    return (resultadosTempo, resultadosMem)"
   ]
  },
  {
   "cell_type": "code",
   "execution_count": 6,
   "metadata": {
    "id": "Is2drYrBZDXG"
   },
   "outputs": [],
   "source": [
    "resultadoTotMem = []\n",
    "resultadoTotTempo = []"
   ]
  },
  {
   "cell_type": "markdown",
   "metadata": {
    "id": "Sp_1_PRYMy7W"
   },
   "source": [
    "# Para busca Linear V1"
   ]
  },
  {
   "cell_type": "code",
   "execution_count": 7,
   "metadata": {
    "id": "WoAJ6BptV51Q"
   },
   "outputs": [],
   "source": [
    "def buscaLinearV1(x, v, *args):\n",
    "    indice = -1\n",
    "    for i in range(v.shape[0]):\n",
    "        if v[i] == x:\n",
    "            indice = i\n",
    "    return indice"
   ]
  },
  {
   "cell_type": "code",
   "execution_count": 8,
   "metadata": {
    "colab": {
     "base_uri": "https://localhost:8080/"
    },
    "id": "xPyQ-aglM5CY",
    "outputId": "8c6dcaec-fda0-4e50-ecf4-1f42dac6177a"
   },
   "outputs": [
    {
     "name": "stdout",
     "output_type": "stream",
     "text": [
      "Uso de memória: 1.904 KB\n",
      "Tempo decorrido: 0.0034019947052001953 segundos para o tamanho 100\n",
      "Uso de memória: 1.816 KB\n",
      "Tempo decorrido: 0.0012657642364501953 segundos para o tamanho 200\n",
      "Uso de memória: 3.5 KB\n",
      "Tempo decorrido: 0.0015969276428222656 segundos para o tamanho 400\n",
      "Uso de memória: 6.7 KB\n",
      "Tempo decorrido: 0.002872943878173828 segundos para o tamanho 800\n",
      "Uso de memória: 13.1 KB\n",
      "Tempo decorrido: 0.0038030147552490234 segundos para o tamanho 1600\n",
      "Uso de memória: 25.9 KB\n",
      "Tempo decorrido: 0.005366325378417969 segundos para o tamanho 3200\n",
      "Uso de memória: 51.5 KB\n",
      "Tempo decorrido: 0.009305715560913086 segundos para o tamanho 6400\n",
      "Uso de memória: 102.7 KB\n",
      "Tempo decorrido: 0.008904695510864258 segundos para o tamanho 12800\n",
      "Uso de memória: 205.1 KB\n",
      "Tempo decorrido: 0.022350311279296875 segundos para o tamanho 25600\n",
      "Uso de memória: 434.066 KB\n",
      "Tempo decorrido: 0.061285972595214844 segundos para o tamanho 51200\n",
      "Uso de memória: 823.042 KB\n",
      "Tempo decorrido: 0.17021894454956055 segundos para o tamanho 102400\n",
      "Uso de memória: 1641.112 KB\n",
      "Tempo decorrido: 0.13047552108764648 segundos para o tamanho 204800\n",
      "Uso de memória: 3282.803 KB\n",
      "Tempo decorrido: 0.258436918258667 segundos para o tamanho 409600\n",
      "Uso de memória: 6572.995 KB\n",
      "Tempo decorrido: 0.4922828674316406 segundos para o tamanho 819200\n",
      "Uso de memória: 13171.747 KB\n",
      "Tempo decorrido: 1.024538516998291 segundos para o tamanho 1638400\n",
      "Uso de memória: 26275.78 KB\n",
      "Tempo decorrido: 3.57674503326416 segundos para o tamanho 3276800\n",
      "Uso de memória: 52492.204 KB\n",
      "Tempo decorrido: 5.607166767120361 segundos para o tamanho 6553600\n",
      "Uso de memória: 104923.057 KB\n",
      "Tempo decorrido: 9.545490741729736 segundos para o tamanho 13107200\n",
      "Uso de memória: 209782.492 KB\n",
      "Tempo decorrido: 17.651723384857178 segundos para o tamanho 26214400\n",
      "Uso de memória: 419505.731 KB\n",
      "Tempo decorrido: 37.035123348236084 segundos para o tamanho 52428800\n",
      "Uso de memória: 838949.373 KB\n",
      "Tempo decorrido: 73.96835803985596 segundos para o tamanho 104857600\n"
     ]
    }
   ],
   "source": [
    "resultado = buscar(buscaLinearV1, 0)\n",
    "resultadoTotTempo.append(resultado[0])\n",
    "resultadoTotMem.append(resultado[1])"
   ]
  },
  {
   "cell_type": "markdown",
   "metadata": {
    "id": "NXWzl5BEj1SQ"
   },
   "source": [
    "# Para busca Linear V2"
   ]
  },
  {
   "cell_type": "code",
   "execution_count": 9,
   "metadata": {
    "id": "CiaaxGPRkiL5"
   },
   "outputs": [],
   "source": [
    "def buscaLinearV2(x, v, *args):\n",
    "    for i in range(v.shape[0]):\n",
    "        if v[i] == x:\n",
    "            return i\n",
    "    return -1"
   ]
  },
  {
   "cell_type": "code",
   "execution_count": 10,
   "metadata": {
    "colab": {
     "base_uri": "https://localhost:8080/"
    },
    "id": "mjq_gPYOkdJt",
    "outputId": "b6db4db3-3605-41be-d962-47a853c55728"
   },
   "outputs": [
    {
     "name": "stdout",
     "output_type": "stream",
     "text": [
      "Uso de memória: 1.016 KB\n",
      "Tempo decorrido: 0.0008668899536132812 segundos para o tamanho 100\n",
      "Uso de memória: 1.816 KB\n",
      "Tempo decorrido: 0.0018169879913330078 segundos para o tamanho 200\n",
      "Uso de memória: 3.5 KB\n",
      "Tempo decorrido: 0.0011589527130126953 segundos para o tamanho 400\n",
      "Uso de memória: 6.828 KB\n",
      "Tempo decorrido: 0.004452943801879883 segundos para o tamanho 800\n",
      "Uso de memória: 13.1 KB\n",
      "Tempo decorrido: 0.0014812946319580078 segundos para o tamanho 1600\n",
      "Uso de memória: 25.9 KB\n",
      "Tempo decorrido: 0.002679586410522461 segundos para o tamanho 3200\n",
      "Uso de memória: 51.5 KB\n",
      "Tempo decorrido: 0.0015039443969726562 segundos para o tamanho 6400\n",
      "Uso de memória: 102.7 KB\n",
      "Tempo decorrido: 0.0012989044189453125 segundos para o tamanho 12800\n",
      "Uso de memória: 205.1 KB\n",
      "Tempo decorrido: 0.0013744831085205078 segundos para o tamanho 25600\n",
      "Uso de memória: 409.9 KB\n",
      "Tempo decorrido: 0.0016820430755615234 segundos para o tamanho 51200\n",
      "Uso de memória: 819.5 KB\n",
      "Tempo decorrido: 0.0020813941955566406 segundos para o tamanho 102400\n",
      "Uso de memória: 1638.7 KB\n",
      "Tempo decorrido: 0.0025534629821777344 segundos para o tamanho 204800\n",
      "Uso de memória: 3277.1 KB\n",
      "Tempo decorrido: 0.003215312957763672 segundos para o tamanho 409600\n",
      "Uso de memória: 6553.9 KB\n",
      "Tempo decorrido: 0.0038611888885498047 segundos para o tamanho 819200\n",
      "Uso de memória: 13107.712 KB\n",
      "Tempo decorrido: 0.007276296615600586 segundos para o tamanho 1638400\n",
      "Uso de memória: 26214.7 KB\n",
      "Tempo decorrido: 0.010081052780151367 segundos para o tamanho 3276800\n",
      "Uso de memória: 52429.1 KB\n",
      "Tempo decorrido: 0.020478487014770508 segundos para o tamanho 6553600\n",
      "Uso de memória: 104914.818 KB\n",
      "Tempo decorrido: 0.043157339096069336 segundos para o tamanho 13107200\n",
      "Uso de memória: 209718.068 KB\n",
      "Tempo decorrido: 0.07710671424865723 segundos para o tamanho 26214400\n",
      "Uso de memória: 419439.209 KB\n",
      "Tempo decorrido: 0.15550804138183594 segundos para o tamanho 52428800\n",
      "Uso de memória: 838870.249 KB\n",
      "Tempo decorrido: 0.30525994300842285 segundos para o tamanho 104857600\n"
     ]
    }
   ],
   "source": [
    "resultado = buscar(buscaLinearV2, 0)\n",
    "resultadoTotTempo.append(resultado[0])\n",
    "resultadoTotMem.append(resultado[1])"
   ]
  },
  {
   "cell_type": "markdown",
   "metadata": {
    "id": "v_0oTwJatrNv"
   },
   "source": [
    "# Para busca binária começo do vetor"
   ]
  },
  {
   "cell_type": "code",
   "execution_count": 11,
   "metadata": {
    "id": "hGsx65M1HyUH"
   },
   "outputs": [],
   "source": [
    "def pesquisa_binaria(x, v, e, d):\n",
    "    meio = (e + d) // 2\n",
    "    if e >= d:\n",
    "        return -1\n",
    "    if v[meio] == x:\n",
    "        return meio\n",
    "    elif v[meio] < x:\n",
    "        return pesquisa_binaria(x, v, meio + 1, d)\n",
    "    else:\n",
    "        return pesquisa_binaria(x, v, e, meio - 1)"
   ]
  },
  {
   "cell_type": "code",
   "execution_count": 12,
   "metadata": {
    "colab": {
     "base_uri": "https://localhost:8080/"
    },
    "id": "ag8vk2tLtxme",
    "outputId": "20af7d4b-0a00-4a7f-f27e-2be99681cb69"
   },
   "outputs": [
    {
     "name": "stdout",
     "output_type": "stream",
     "text": [
      "Uso de memória: 1.872 KB\n",
      "Tempo decorrido: 0.0022897720336914062 segundos para o tamanho 100\n",
      "Uso de memória: 2.208 KB\n",
      "Tempo decorrido: 0.002068042755126953 segundos para o tamanho 200\n",
      "Uso de memória: 3.836 KB\n",
      "Tempo decorrido: 0.0005965232849121094 segundos para o tamanho 400\n",
      "Uso de memória: 7.092 KB\n",
      "Tempo decorrido: 0.0005350112915039062 segundos para o tamanho 800\n",
      "Uso de memória: 13.548 KB\n",
      "Tempo decorrido: 0.001781463623046875 segundos para o tamanho 1600\n",
      "Uso de memória: 26.404 KB\n",
      "Tempo decorrido: 0.0013206005096435547 segundos para o tamanho 3200\n",
      "Uso de memória: 52.06 KB\n",
      "Tempo decorrido: 0.002097606658935547 segundos para o tamanho 6400\n",
      "Uso de memória: 102.856 KB\n",
      "Tempo decorrido: 0.0014438629150390625 segundos para o tamanho 12800\n",
      "Uso de memória: 205.772 KB\n",
      "Tempo decorrido: 0.0016095638275146484 segundos para o tamanho 25600\n",
      "Uso de memória: 410.628 KB\n",
      "Tempo decorrido: 0.0016355514526367188 segundos para o tamanho 51200\n",
      "Uso de memória: 820.284 KB\n",
      "Tempo decorrido: 0.0019843578338623047 segundos para o tamanho 102400\n",
      "Uso de memória: 1639.54 KB\n",
      "Tempo decorrido: 0.001984119415283203 segundos para o tamanho 204800\n",
      "Uso de memória: 3277.996 KB\n",
      "Tempo decorrido: 0.0022733211517333984 segundos para o tamanho 409600\n",
      "Uso de memória: 6554.852 KB\n",
      "Tempo decorrido: 0.003342866897583008 segundos para o tamanho 819200\n",
      "Uso de memória: 13108.508 KB\n",
      "Tempo decorrido: 0.005700349807739258 segundos para o tamanho 1638400\n",
      "Uso de memória: 26215.764 KB\n",
      "Tempo decorrido: 0.007332563400268555 segundos para o tamanho 3276800\n",
      "Uso de memória: 52429.912 KB\n",
      "Tempo decorrido: 0.021922588348388672 segundos para o tamanho 6553600\n",
      "Uso de memória: 104861.748 KB\n",
      "Tempo decorrido: 0.04045844078063965 segundos para o tamanho 13107200\n",
      "Uso de memória: 209719.722 KB\n",
      "Tempo decorrido: 0.0781700611114502 segundos para o tamanho 26214400\n",
      "Uso de memória: 419432.14 KB\n",
      "Tempo decorrido: 0.15330004692077637 segundos para o tamanho 52428800\n",
      "Uso de memória: 838923.685 KB\n",
      "Tempo decorrido: 0.3068509101867676 segundos para o tamanho 104857600\n"
     ]
    }
   ],
   "source": [
    "resultado = buscar(pesquisa_binaria, 0)\n",
    "resultadoTotTempo.append(resultado[0])\n",
    "resultadoTotMem.append(resultado[1])"
   ]
  },
  {
   "cell_type": "markdown",
   "metadata": {
    "id": "jXQVcWGJt4W5"
   },
   "source": [
    "# Para busca binária meio do vetor"
   ]
  },
  {
   "cell_type": "code",
   "execution_count": 13,
   "metadata": {
    "colab": {
     "base_uri": "https://localhost:8080/"
    },
    "id": "G-j1UZkFt67k",
    "outputId": "749850be-90eb-4465-f727-d144921a7480"
   },
   "outputs": [
    {
     "name": "stdout",
     "output_type": "stream",
     "text": [
      "Uso de memória: 0.944 KB\n",
      "Tempo decorrido: 0.003592967987060547 segundos para o tamanho 100\n",
      "Uso de memória: 1.744 KB\n",
      "Tempo decorrido: 0.002345561981201172 segundos para o tamanho 200\n",
      "Uso de memória: 3.376 KB\n",
      "Tempo decorrido: 0.0016696453094482422 segundos para o tamanho 400\n",
      "Uso de memória: 6.604 KB\n",
      "Tempo decorrido: 0.0006198883056640625 segundos para o tamanho 800\n",
      "Uso de memória: 13.004 KB\n",
      "Tempo decorrido: 0.002503633499145508 segundos para o tamanho 1600\n",
      "Uso de memória: 25.804 KB\n",
      "Tempo decorrido: 0.0010066032409667969 segundos para o tamanho 3200\n",
      "Uso de memória: 51.404 KB\n",
      "Tempo decorrido: 0.00164031982421875 segundos para o tamanho 6400\n",
      "Uso de memória: 102.604 KB\n",
      "Tempo decorrido: 0.0013284683227539062 segundos para o tamanho 12800\n",
      "Uso de memória: 205.004 KB\n",
      "Tempo decorrido: 0.0014622211456298828 segundos para o tamanho 25600\n",
      "Uso de memória: 409.804 KB\n",
      "Tempo decorrido: 0.0023484230041503906 segundos para o tamanho 51200\n",
      "Uso de memória: 819.404 KB\n",
      "Tempo decorrido: 0.0020356178283691406 segundos para o tamanho 102400\n",
      "Uso de memória: 1638.604 KB\n",
      "Tempo decorrido: 0.00261688232421875 segundos para o tamanho 204800\n",
      "Uso de memória: 3277.004 KB\n",
      "Tempo decorrido: 0.0027446746826171875 segundos para o tamanho 409600\n",
      "Uso de memória: 6553.804 KB\n",
      "Tempo decorrido: 0.003374338150024414 segundos para o tamanho 819200\n",
      "Uso de memória: 13107.556 KB\n",
      "Tempo decorrido: 0.004764080047607422 segundos para o tamanho 1638400\n",
      "Uso de memória: 26214.604 KB\n",
      "Tempo decorrido: 0.007485866546630859 segundos para o tamanho 3276800\n",
      "Uso de memória: 52431.212 KB\n",
      "Tempo decorrido: 0.020498275756835938 segundos para o tamanho 6553600\n",
      "Uso de memória: 104857.804 KB\n",
      "Tempo decorrido: 0.04116630554199219 segundos para o tamanho 13107200\n",
      "Uso de memória: 209715.404 KB\n",
      "Tempo decorrido: 0.0801236629486084 segundos para o tamanho 26214400\n",
      "Uso de memória: 419437.156 KB\n",
      "Tempo decorrido: 0.16186738014221191 segundos para o tamanho 52428800\n",
      "Uso de memória: 838864.879 KB\n",
      "Tempo decorrido: 0.29601335525512695 segundos para o tamanho 104857600\n"
     ]
    }
   ],
   "source": [
    "resultado = buscar(pesquisa_binaria, 50)\n",
    "resultadoTotTempo.append(resultado[0])\n",
    "resultadoTotMem.append(resultado[1])"
   ]
  },
  {
   "cell_type": "markdown",
   "metadata": {
    "id": "iB-5uF7m0dWr"
   },
   "source": [
    "# Busca quadrática com contagem de repetição de elementos"
   ]
  },
  {
   "cell_type": "code",
   "execution_count": 14,
   "metadata": {
    "id": "pkWThLg20dla"
   },
   "outputs": [],
   "source": [
    "def quadratica(numero_procurado, vet, *args):\n",
    "    contador = 0\n",
    "    posicao = -1\n",
    "    entrou = False\n",
    "    for i in range(vet.shape[0]):\n",
    "        for j in range(i, vet.shape[0]):\n",
    "            if vet[i] == numero_procurado:\n",
    "                if not entrou:\n",
    "                    posicao = i\n",
    "                    if vet[j] == numero_procurado:\n",
    "                        contador += 1\n",
    "            if contador > 0:\n",
    "                entrou = True\n",
    "        if i%1000==0:\n",
    "            print(i)\n",
    "    return posicao"
   ]
  },
  {
   "cell_type": "code",
   "execution_count": 15,
   "metadata": {
    "colab": {
     "base_uri": "https://localhost:8080/"
    },
    "id": "JDITHerj07eP",
    "outputId": "d94eeb87-fa2b-49c2-b561-b80c555e633c"
   },
   "outputs": [
    {
     "name": "stdout",
     "output_type": "stream",
     "text": [
      "0\n",
      "Uso de memória: 3.434 KB\n",
      "Tempo decorrido: 0.007046699523925781 segundos para o tamanho 100\n",
      "0\n",
      "Uso de memória: 3.59 KB\n",
      "Tempo decorrido: 0.010474443435668945 segundos para o tamanho 200\n",
      "0\n",
      "Uso de memória: 16.206 KB\n",
      "Tempo decorrido: 0.05870556831359863 segundos para o tamanho 400\n",
      "0\n",
      "Uso de memória: 61.507 KB\n",
      "Tempo decorrido: 0.226149320602417 segundos para o tamanho 800\n",
      "0\n",
      "1000\n",
      "Uso de memória: 80.029 KB\n",
      "Tempo decorrido: 0.8643255233764648 segundos para o tamanho 1600\n",
      "0\n",
      "1000\n",
      "2000\n",
      "3000\n",
      "Uso de memória: 120.52 KB\n",
      "Tempo decorrido: 4.998295307159424 segundos para o tamanho 3200\n",
      "0\n",
      "1000\n",
      "2000\n",
      "3000\n",
      "4000\n",
      "5000\n",
      "6000\n",
      "Uso de memória: 129.01 KB\n",
      "Tempo decorrido: 15.233543872833252 segundos para o tamanho 6400\n",
      "0\n",
      "1000\n",
      "2000\n",
      "3000\n",
      "4000\n",
      "5000\n",
      "6000\n",
      "7000\n",
      "8000\n",
      "9000\n",
      "10000\n",
      "11000\n",
      "12000\n",
      "Uso de memória: 192.785 KB\n",
      "Tempo decorrido: 62.49979305267334 segundos para o tamanho 12800\n"
     ]
    }
   ],
   "source": [
    "resultado = buscar(quadratica, 100,8)\n",
    "resultadoTotTempo.append(resultado[0])\n",
    "resultadoTotMem.append(resultado[1])"
   ]
  },
  {
   "cell_type": "markdown",
   "metadata": {
    "id": "DIa2R-ViEsdX"
   },
   "source": [
    "# Busca ternária"
   ]
  },
  {
   "cell_type": "code",
   "execution_count": 16,
   "metadata": {
    "id": "KNP1VUUREroj"
   },
   "outputs": [],
   "source": [
    "def bt(x, vet, _, n):\n",
    "    inicio = 0\n",
    "    fim = n - 1\n",
    "\n",
    "    while inicio <= fim:\n",
    "        meio_esquerdo = inicio + (fim - inicio) // 3\n",
    "        meio_direito = fim - (fim - inicio) // 3\n",
    "\n",
    "        if vet[meio_esquerdo] == x:\n",
    "            return meio_esquerdo\n",
    "        elif vet[meio_direito] == x:\n",
    "            return meio_direito\n",
    "        elif vet[meio_esquerdo] > x:\n",
    "            fim = meio_esquerdo - 1\n",
    "        elif vet[meio_direito] < x:\n",
    "            inicio = meio_direito + 1\n",
    "        else:\n",
    "            inicio = meio_esquerdo + 1\n",
    "            fim = meio_direito - 1\n",
    "    print(\"ERRO\")\n",
    "    return -1"
   ]
  },
  {
   "cell_type": "code",
   "execution_count": 17,
   "metadata": {
    "colab": {
     "base_uri": "https://localhost:8080/"
    },
    "id": "tAwJKqj2FGQX",
    "outputId": "85bbac03-0922-4ed3-9bd5-c29557704a3f"
   },
   "outputs": [
    {
     "name": "stdout",
     "output_type": "stream",
     "text": [
      "Uso de memória: 0.992 KB\n",
      "Tempo decorrido: 0.002657175064086914 segundos para o tamanho 100\n",
      "Uso de memória: 1.792 KB\n",
      "Tempo decorrido: 0.0027191638946533203 segundos para o tamanho 200\n",
      "Uso de memória: 3.488 KB\n",
      "Tempo decorrido: 0.002829313278198242 segundos para o tamanho 400\n",
      "Uso de memória: 6.688 KB\n",
      "Tempo decorrido: 0.0029358863830566406 segundos para o tamanho 800\n",
      "Uso de memória: 13.088 KB\n",
      "Tempo decorrido: 0.001680135726928711 segundos para o tamanho 1600\n",
      "Uso de memória: 26.764 KB\n",
      "Tempo decorrido: 0.002761363983154297 segundos para o tamanho 3200\n",
      "Uso de memória: 51.516 KB\n",
      "Tempo decorrido: 0.0018260478973388672 segundos para o tamanho 6400\n",
      "Uso de memória: 102.716 KB\n",
      "Tempo decorrido: 0.0014698505401611328 segundos para o tamanho 12800\n",
      "Uso de memória: 205.116 KB\n",
      "Tempo decorrido: 0.0017180442810058594 segundos para o tamanho 25600\n",
      "Uso de memória: 409.916 KB\n",
      "Tempo decorrido: 0.0018782615661621094 segundos para o tamanho 51200\n",
      "Uso de memória: 819.516 KB\n",
      "Tempo decorrido: 0.002023458480834961 segundos para o tamanho 102400\n",
      "Uso de memória: 1638.716 KB\n",
      "Tempo decorrido: 0.002672910690307617 segundos para o tamanho 204800\n",
      "Uso de memória: 3277.116 KB\n",
      "Tempo decorrido: 0.003643512725830078 segundos para o tamanho 409600\n",
      "Uso de memória: 6553.916 KB\n",
      "Tempo decorrido: 0.004010677337646484 segundos para o tamanho 819200\n",
      "Uso de memória: 13107.516 KB\n",
      "Tempo decorrido: 0.006392002105712891 segundos para o tamanho 1638400\n",
      "Uso de memória: 26214.868 KB\n",
      "Tempo decorrido: 0.010287046432495117 segundos para o tamanho 3276800\n",
      "Uso de memória: 52429.116 KB\n",
      "Tempo decorrido: 0.02113938331604004 segundos para o tamanho 6553600\n",
      "Uso de memória: 104858.068 KB\n",
      "Tempo decorrido: 0.04219937324523926 segundos para o tamanho 13107200\n",
      "Uso de memória: 209715.668 KB\n",
      "Tempo decorrido: 0.07873392105102539 segundos para o tamanho 26214400\n",
      "Uso de memória: 419433.076 KB\n",
      "Tempo decorrido: 0.16016578674316406 segundos para o tamanho 52428800\n",
      "Uso de memória: 838866.327 KB\n",
      "Tempo decorrido: 0.2983701229095459 segundos para o tamanho 104857600\n"
     ]
    }
   ],
   "source": [
    "resultado = buscar(bt, 100)\n",
    "resultadoTotTempo.append(resultado[0])\n",
    "resultadoTotMem.append(resultado[1])"
   ]
  },
  {
   "cell_type": "markdown",
   "metadata": {
    "id": "fVst5uoeF7hQ"
   },
   "source": [
    "# Busca cúbica - tripla checagem"
   ]
  },
  {
   "cell_type": "code",
   "execution_count": 18,
   "metadata": {
    "id": "KXZyAIy6F76D"
   },
   "outputs": [],
   "source": [
    "def cubica(numero_procurado, vet, *args):\n",
    "    posicao = -1\n",
    "\n",
    "    for i in range(len(vet)):\n",
    "        for j in range(len(vet)):\n",
    "            for l in range(len(vet)):\n",
    "                if vet[i] == numero_procurado and vet[j] == numero_procurado and vet[l] == numero_procurado:\n",
    "                    posicao = i\n",
    "        if i%100==0:\n",
    "            print(i)\n",
    "\n",
    "    if posicao != -1:\n",
    "        print(f\"Posicao: {posicao}\")"
   ]
  },
  {
   "cell_type": "code",
   "execution_count": 19,
   "metadata": {
    "colab": {
     "base_uri": "https://localhost:8080/"
    },
    "id": "68kFBFybGX0f",
    "outputId": "bcc4a519-8b20-41de-e0be-01d5a3aaf9bb"
   },
   "outputs": [
    {
     "name": "stdout",
     "output_type": "stream",
     "text": [
      "0\n",
      "Posicao: 99\n",
      "Uso de memória: 72.997 KB\n",
      "Tempo decorrido: 0.41055774688720703 segundos para o tamanho 100\n",
      "0\n",
      "100\n",
      "Posicao: 199\n",
      "Uso de memória: 94.96 KB\n",
      "Tempo decorrido: 4.244620323181152 segundos para o tamanho 200\n",
      "0\n",
      "100\n",
      "200\n",
      "300\n",
      "Posicao: 399\n",
      "Uso de memória: 94.536 KB\n",
      "Tempo decorrido: 35.71920132637024 segundos para o tamanho 400\n",
      "0\n",
      "100\n",
      "200\n",
      "300\n",
      "400\n",
      "500\n",
      "600\n",
      "700\n",
      "Posicao: 799\n",
      "Uso de memória: 122.332 KB\n",
      "Tempo decorrido: 315.2737445831299 segundos para o tamanho 800\n"
     ]
    }
   ],
   "source": [
    "resultado = buscar(cubica, 100, 4)\n",
    "resultadoTotTempo.append(resultado[0])\n",
    "resultadoTotMem.append(resultado[1])"
   ]
  },
  {
   "cell_type": "code",
   "execution_count": 20,
   "metadata": {
    "id": "s4BszIaAZNTh"
   },
   "outputs": [],
   "source": [
    "pd.DataFrame(resultadoTotMem, columns=tamanhos).to_excel(\"resultadoMemoria.xlsx\")\n",
    "pd.DataFrame(resultadoTotTempo, columns=tamanhos).to_excel(\"resultadoTempo.xlsx\")"
   ]
  }
 ],
 "metadata": {
  "colab": {
   "provenance": []
  },
  "kernelspec": {
   "display_name": "Python 3",
   "language": "python",
   "name": "python3"
  },
  "language_info": {
   "codemirror_mode": {
    "name": "ipython",
    "version": 3
   },
   "file_extension": ".py",
   "mimetype": "text/x-python",
   "name": "python",
   "nbconvert_exporter": "python",
   "pygments_lexer": "ipython3",
   "version": "3.8.8"
  }
 },
 "nbformat": 4,
 "nbformat_minor": 1
}
